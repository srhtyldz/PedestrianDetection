{
  "nbformat": 4,
  "nbformat_minor": 0,
  "metadata": {
    "colab": {
      "name": "setupYOLOv4.ipynb ",
      "version": "0.3.2",
      "provenance": [],
      "collapsed_sections": []
    },
    "kernelspec": {
      "name": "python3",
      "display_name": "Python 3"
    },
    "accelerator": "GPU"
  },
  "cells": [
    {
      "cell_type": "code",
      "metadata": {
        "id": "YwnCxsN3MfZ2",
        "colab_type": "code",
        "colab": {}
      },
      "source": [
        "!apt-get install -y -qq software-properties-common python-software-properties module-init-tools\n",
        "!add-apt-repository -y ppa:alessandro-strada/ppa 2>&1 > /dev/null\n",
        "!apt-get update -qq 2>&1 > /dev/null\n",
        "!apt-get -y install -qq google-drive-ocamlfuse fuse\n",
        "from google.colab import auth\n",
        "auth.authenticate_user()\n",
        "from oauth2client.client import GoogleCredentials\n",
        "creds = GoogleCredentials.get_application_default()\n",
        "import getpass\n",
        "!google-drive-ocamlfuse -headless -id={creds.client_id} -secret={creds.client_secret} < /dev/null 2>&1 | grep URL\n",
        "vcode = getpass.getpass()\n",
        "!echo {vcode} | google-drive-ocamlfuse -headless -id={creds.client_id} -secret={creds.client_secret}\n",
        "from google.colab import drive\n",
        "drive.mount('/content/drive')"
      ],
      "execution_count": 0,
      "outputs": []
    },
    {
      "cell_type": "code",
      "metadata": {
        "id": "ZDW2hxma4qbn",
        "colab_type": "code",
        "colab": {}
      },
      "source": [
        "#Installing CUDA pre-requisites\n",
        "!wget https://developer.nvidia.com/compute/cuda/9.1/Prod/local_installers/cuda-repo-ubuntu1604-9-1-local_9.1.85-1_amd64\n",
        "!dpkg -i cuda-repo-ubuntu1604-9-1-local_9.1.85-1_amd64"
      ],
      "execution_count": 0,
      "outputs": []
    },
    {
      "cell_type": "code",
      "metadata": {
        "id": "cN4lfMCZMifm",
        "colab_type": "code",
        "colab": {}
      },
      "source": [
        "!apt update"
      ],
      "execution_count": 0,
      "outputs": []
    },
    {
      "cell_type": "code",
      "metadata": {
        "id": "EYKzoifO4ssp",
        "colab_type": "code",
        "colab": {}
      },
      "source": [
        "#Installing CUDA\n",
        "!apt install cuda-9-1 -y\n",
        "\n",
        "# If there is an issue installing CUDA, \n",
        "# try installing cuda-visual-tools again\n",
        "# Comment the earlier command to install cuda\n",
        "# Uncomment and run the below command\n",
        "\n",
        "#!apt --fix-broken install cuda-visual-tools-8-0 -y\n",
        "\n"
      ],
      "execution_count": 0,
      "outputs": []
    },
    {
      "cell_type": "code",
      "metadata": {
        "id": "5spSNgPVMnTP",
        "colab_type": "code",
        "colab": {}
      },
      "source": [
        "import os\n",
        "os.environ['PATH'] += ':/usr/local/cuda/bin'"
      ],
      "execution_count": 0,
      "outputs": []
    },
    {
      "cell_type": "code",
      "metadata": {
        "id": "ti_p6155MoMS",
        "colab_type": "code",
        "colab": {}
      },
      "source": [
        "#Installing compilers\n",
        "!apt install gcc-5 g++-5 -y"
      ],
      "execution_count": 0,
      "outputs": []
    },
    {
      "cell_type": "code",
      "metadata": {
        "id": "I3ApKBlhMpKx",
        "colab_type": "code",
        "colab": {}
      },
      "source": [
        "!ln -s /usr/bin/gcc-5 /usr/local/cuda/bin/gcc \n",
        "!ln -s /usr/bin/g++-5 /usr/local/cuda/bin/g++"
      ],
      "execution_count": 0,
      "outputs": []
    },
    {
      "cell_type": "code",
      "metadata": {
        "id": "qketiFWVMqVL",
        "colab_type": "code",
        "colab": {}
      },
      "source": [
        "import os\n",
        "os.environ['PATH'] += ':/usr/local/cuda/bin'"
      ],
      "execution_count": 0,
      "outputs": []
    },
    {
      "cell_type": "code",
      "metadata": {
        "id": "jEey-rNTMriq",
        "colab_type": "code",
        "colab": {}
      },
      "source": [
        "# Apparently we need to install this so that OpenCV can work without any issues\n",
        "# when we are making the file\n",
        "!apt-get install libopencv-dev"
      ],
      "execution_count": 0,
      "outputs": []
    },
    {
      "cell_type": "code",
      "metadata": {
        "id": "2sh3ASKbMtJE",
        "colab_type": "code",
        "colab": {}
      },
      "source": [
        "#start training\n",
        "!./darknet detector train data/obj.data yolov3.cfg darknet53.conv.74 -ext_output -dont_show < data/train.txt > resultv3_selectedyolo.txt -map\n"
      ],
      "execution_count": 0,
      "outputs": []
    },
    {
      "cell_type": "code",
      "metadata": {
        "id": "N2zRGsTvR13s",
        "colab_type": "code",
        "colab": {}
      },
      "source": [
        "!unzip darknet-master.zip"
      ],
      "execution_count": 0,
      "outputs": []
    },
    {
      "cell_type": "code",
      "metadata": {
        "id": "LpDelQTcrT14",
        "colab_type": "code",
        "colab": {}
      },
      "source": [
        "!make "
      ],
      "execution_count": 0,
      "outputs": []
    },
    {
      "cell_type": "code",
      "metadata": {
        "id": "IsbuV948M0H2",
        "colab_type": "code",
        "colab": {}
      },
      "source": [
        "# Download the resulting video and use VLC to run it\n",
        "from google.colab import files\n",
        "!ls -all\n",
        "files.download('result_v2_2.txt')"
      ],
      "execution_count": 0,
      "outputs": []
    },
    {
      "cell_type": "code",
      "metadata": {
        "id": "L2YctKtA6zqg",
        "colab_type": "code",
        "colab": {}
      },
      "source": [
        "from google.colab import drive\n",
        "drive.mount('/content/drive')\n",
        "!ls \"/content/drive/My Drive/\"\n"
      ],
      "execution_count": 0,
      "outputs": []
    },
    {
      "cell_type": "code",
      "metadata": {
        "id": "_9U5UMY669GA",
        "colab_type": "code",
        "colab": {}
      },
      "source": [
        "!cp \"/content/drive/My Drive/darknett.zip\" darknett.zip\n"
      ],
      "execution_count": 0,
      "outputs": []
    },
    {
      "cell_type": "code",
      "metadata": {
        "id": "R7v_y8e369oH",
        "colab_type": "code",
        "colab": {}
      },
      "source": [
        "!cp \"/content/drive/My Drive/darknett/src/detector.c\" /content/darknet/src/\n",
        "\n"
      ],
      "execution_count": 0,
      "outputs": []
    },
    {
      "cell_type": "code",
      "metadata": {
        "id": "Et3Rt5INflQz",
        "colab_type": "code",
        "colab": {}
      },
      "source": [
        "!cp \"/content/drive/My Drive/darknet_v2.zip\" darknet_v2.zip\n"
      ],
      "execution_count": 0,
      "outputs": []
    },
    {
      "cell_type": "code",
      "metadata": {
        "id": "iYJ7cMfaIkhZ",
        "colab_type": "code",
        "colab": {}
      },
      "source": [
        "!unzip darknett.zip\n"
      ],
      "execution_count": 0,
      "outputs": []
    },
    {
      "cell_type": "code",
      "metadata": {
        "id": "DyvCbkhCfqDk",
        "colab_type": "code",
        "colab": {}
      },
      "source": [
        "!ls"
      ],
      "execution_count": 0,
      "outputs": []
    },
    {
      "cell_type": "code",
      "metadata": {
        "id": "1Dn4trqI7Pt1",
        "colab_type": "code",
        "colab": {}
      },
      "source": [
        "cd \"/content/drive/My Drive/darknettv3/\""
      ],
      "execution_count": 0,
      "outputs": []
    },
    {
      "cell_type": "code",
      "metadata": {
        "id": "EFfxwiRfE6uf",
        "colab_type": "code",
        "colab": {}
      },
      "source": [
        "cd darknett"
      ],
      "execution_count": 0,
      "outputs": []
    },
    {
      "cell_type": "code",
      "metadata": {
        "id": "-9X_yHrpIo5n",
        "colab_type": "code",
        "colab": {}
      },
      "source": [
        "!make "
      ],
      "execution_count": 0,
      "outputs": []
    },
    {
      "cell_type": "code",
      "metadata": {
        "id": "VRW7ejKh1lVq",
        "colab_type": "code",
        "colab": {}
      },
      "source": [
        "!./darknet detector train data/obj.data yolov3_4.cfg olov3_4_3500.weights -ext_output -dont_show < data/train.txt > resultv3_2.txt\n"
      ],
      "execution_count": 0,
      "outputs": []
    },
    {
      "cell_type": "code",
      "metadata": {
        "id": "6mJxdIx_gXPO",
        "colab_type": "code",
        "colab": {}
      },
      "source": [
        "!ls"
      ],
      "execution_count": 0,
      "outputs": []
    },
    {
      "cell_type": "code",
      "metadata": {
        "id": "ABusi9cgATCb",
        "colab_type": "code",
        "colab": {}
      },
      "source": [
        "!cp \"/content/drive/My Drive/backupForv3_2.zip\" backupForv3_2.zip\n",
        "!unzip backupForv3_2.zip\n"
      ],
      "execution_count": 0,
      "outputs": []
    },
    {
      "cell_type": "code",
      "metadata": {
        "id": "-i-MVbrGAkZz",
        "colab_type": "code",
        "colab": {}
      },
      "source": [
        "cd darknett"
      ],
      "execution_count": 0,
      "outputs": []
    },
    {
      "cell_type": "code",
      "metadata": {
        "id": "NfhBjit-AlFl",
        "colab_type": "code",
        "colab": {}
      },
      "source": [
        "#backupsss \n",
        "!pip install -U -q PyDrive\n",
        "\n",
        "from google.colab import files\n",
        "from pydrive.auth import GoogleAuth\n",
        "from pydrive.drive import GoogleDrive\n",
        "from google.colab import auth\n",
        "from oauth2client.client import GoogleCredentials\n",
        "import zipfile\n",
        "import os\n",
        "import sys\n",
        "\n",
        "zipname = 'backupForv3_3'\n",
        "\n",
        "def zipfolder(foldername, target_dir):            \n",
        "    zipobj = zipfile.ZipFile(foldername + '.zip', 'w', zipfile.ZIP_DEFLATED)\n",
        "    rootlen = len(target_dir) + 1\n",
        "    for base, dirs, files in os.walk(target_dir):\n",
        "        for file in files:\n",
        "            fn = os.path.join(base, file)\n",
        "            zipobj.write(fn, fn[rootlen:])\n",
        "\n",
        "zipfolder(zipname, '/content/darknett/backup/')\n",
        "\n"
      ],
      "execution_count": 0,
      "outputs": []
    },
    {
      "cell_type": "code",
      "metadata": {
        "id": "l04plD5JAqjo",
        "colab_type": "code",
        "colab": {}
      },
      "source": [
        "#backupsss \n",
        "!pip install -U -q PyDrive\n",
        "\n",
        "from google.colab import files\n",
        "from pydrive.auth import GoogleAuth\n",
        "from pydrive.drive import GoogleDrive\n",
        "from google.colab import auth\n",
        "from oauth2client.client import GoogleCredentials\n",
        "import zipfile\n",
        "import os\n",
        "import sys\n",
        "\n",
        "auth.authenticate_user()\n",
        "gauth = GoogleAuth()\n",
        "gauth.credentials = GoogleCredentials.get_application_default()\n",
        "drive = GoogleDrive(gauth)\n",
        "\n",
        "file1 = drive.CreateFile()\n",
        "file1.SetContentFile('backupForv3_3.zip')\n",
        "file1.Upload()"
      ],
      "execution_count": 0,
      "outputs": []
    },
    {
      "cell_type": "code",
      "metadata": {
        "id": "1i3i_rs-LzjS",
        "colab_type": "code",
        "colab": {}
      },
      "source": [
        "#backupsss \n",
        "!pip install -U -q PyDrive\n",
        "\n",
        "from google.colab import files\n",
        "from pydrive.auth import GoogleAuth\n",
        "from pydrive.drive import GoogleDrive\n",
        "from google.colab import auth\n",
        "from oauth2client.client import GoogleCredentials\n",
        "import zipfile\n",
        "import os\n",
        "import sys\n",
        "\n",
        "auth.authenticate_user()\n",
        "gauth = GoogleAuth()\n",
        "gauth.credentials = GoogleCredentials.get_application_default()\n",
        "drive = GoogleDrive(gauth)\n",
        "\n",
        "file1 = drive.CreateFile()\n",
        "file1.SetContentFile('resultv3_2.txt')\n",
        "file1.Upload()"
      ],
      "execution_count": 0,
      "outputs": []
    },
    {
      "cell_type": "code",
      "metadata": {
        "id": "3zolaALlokFw",
        "colab_type": "code",
        "colab": {}
      },
      "source": [
        "!cp backup_v0.2.zip \"/content/drive/My Drive/\" \n",
        "\n",
        "\n"
      ],
      "execution_count": 0,
      "outputs": []
    },
    {
      "cell_type": "code",
      "metadata": {
        "id": "oeQiagMahUwN",
        "colab_type": "code",
        "colab": {}
      },
      "source": [
        "!rm -rf yolov3_4_last.weights"
      ],
      "execution_count": 0,
      "outputs": []
    },
    {
      "cell_type": "code",
      "metadata": {
        "id": "lFST7rdmweEk",
        "colab_type": "code",
        "colab": {}
      },
      "source": [
        "cd backup"
      ],
      "execution_count": 0,
      "outputs": []
    },
    {
      "cell_type": "code",
      "metadata": {
        "id": "e42kBM_YwVU8",
        "colab_type": "code",
        "colab": {}
      },
      "source": [
        "cat result.txt\n"
      ],
      "execution_count": 0,
      "outputs": []
    },
    {
      "cell_type": "code",
      "metadata": {
        "id": "BLRBPYpHu9Bv",
        "colab_type": "code",
        "colab": {}
      },
      "source": [
        "from google.colab import files\n",
        "\n",
        "uploaded = files.upload()\n",
        "\n",
        "for fn in uploaded.keys():\n",
        "  print('User uploaded file \"{name}\" with length {length} bytes'.format(\n",
        "      name=fn, length=len(uploaded[fn])))"
      ],
      "execution_count": 0,
      "outputs": []
    },
    {
      "cell_type": "code",
      "metadata": {
        "id": "Lr9CRnf8sza1",
        "colab_type": "code",
        "colab": {}
      },
      "source": [
        "!ls"
      ],
      "execution_count": 0,
      "outputs": []
    },
    {
      "cell_type": "code",
      "metadata": {
        "id": "TNjCHEp0vI45",
        "colab_type": "code",
        "colab": {}
      },
      "source": [
        "!./darknet detector train data/obj.data yolov3.cfg darknet53.conv.74 -ext_output -dont_show < data/train.txt > result.txt -map"
      ],
      "execution_count": 0,
      "outputs": []
    },
    {
      "cell_type": "code",
      "metadata": {
        "id": "9nY9b3dLyHlr",
        "colab_type": "code",
        "colab": {}
      },
      "source": [
        "#backupsss \n",
        "!pip install -U -q PyDrive\n",
        "\n",
        "from google.colab import files\n",
        "from pydrive.auth import GoogleAuth\n",
        "from pydrive.drive import GoogleDrive\n",
        "from google.colab import auth\n",
        "from oauth2client.client import GoogleCredentials\n",
        "import zipfile\n",
        "import os\n",
        "import sys\n",
        "\n",
        "zipname = 'backupForv3_2'\n",
        "\n",
        "def zipfolder(foldername, target_dir):            \n",
        "    zipobj = zipfile.ZipFile(foldername + '.zip', 'w', zipfile.ZIP_DEFLATED)\n",
        "    rootlen = len(target_dir) + 1\n",
        "    for base, dirs, files in os.walk(target_dir):\n",
        "        for file in files:\n",
        "            fn = os.path.join(base, file)\n",
        "            zipobj.write(fn, fn[rootlen:])\n",
        "\n",
        "zipfolder(zipname, '/content/darknett/backup/')\n",
        "\n"
      ],
      "execution_count": 0,
      "outputs": []
    },
    {
      "cell_type": "code",
      "metadata": {
        "id": "4ebxJmXc6ybY",
        "colab_type": "code",
        "colab": {}
      },
      "source": [
        "!ls"
      ],
      "execution_count": 0,
      "outputs": []
    },
    {
      "cell_type": "code",
      "metadata": {
        "id": "Va91xRcdmAfz",
        "colab_type": "code",
        "colab": {}
      },
      "source": [
        "#backupsss \n",
        "!pip install -U -q PyDrive\n",
        "\n",
        "from google.colab import files\n",
        "from pydrive.auth import GoogleAuth\n",
        "from pydrive.drive import GoogleDrive\n",
        "from google.colab import auth\n",
        "from oauth2client.client import GoogleCredentials\n",
        "import zipfile\n",
        "import os\n",
        "import sys\n",
        "\n",
        "auth.authenticate_user()\n",
        "gauth = GoogleAuth()\n",
        "gauth.credentials = GoogleCredentials.get_application_default()\n",
        "drive = GoogleDrive(gauth)\n",
        "\n",
        "file1 = drive.CreateFile()\n",
        "file1.SetContentFile('backupForv3_2.zip')\n",
        "file1.Upload()"
      ],
      "execution_count": 0,
      "outputs": []
    },
    {
      "cell_type": "code",
      "metadata": {
        "id": "Bfitcp4imKxh",
        "colab_type": "code",
        "colab": {}
      },
      "source": [
        "# Download the resulting video and use VLC to run it\n",
        "from google.colab import files\n",
        "!ls -all\n",
        "files.download('backupForv3_2.zip')"
      ],
      "execution_count": 0,
      "outputs": []
    },
    {
      "cell_type": "code",
      "metadata": {
        "id": "xgKccUQHnxRS",
        "colab_type": "code",
        "colab": {}
      },
      "source": [
        "!./darknet detector train data/obj.data yolov3.cfg darknet53.conv.74 -ext_output -dont_show < data/train.txt > result.txt\n",
        "\n"
      ],
      "execution_count": 0,
      "outputs": []
    },
    {
      "cell_type": "code",
      "metadata": {
        "id": "LNXy4qr1nLZK",
        "colab_type": "code",
        "colab": {}
      },
      "source": [
        "######################## ZIP AND UPLOAD FOLDER TO DRIVE ########################\n",
        "\n",
        "!pip install -U -q PyDrive\n",
        "\n",
        "from google.colab import files\n",
        "from pydrive.auth import GoogleAuth\n",
        "from pydrive.drive import GoogleDrive\n",
        "from google.colab import auth\n",
        "from oauth2client.client import GoogleCredentials\n",
        "import zipfile\n",
        "import os\n",
        "import sys\n",
        "\n",
        "zipname = 'backup_v0.1'\n",
        "\n",
        "def zipfolder(foldername, target_dir):            \n",
        "    zipobj = zipfile.ZipFile(foldername + '.zip', 'w', zipfile.ZIP_DEFLATED)\n",
        "    rootlen = len(target_dir) + 1\n",
        "    for base, dirs, files in os.walk(target_dir):\n",
        "        for file in files:\n",
        "            fn = os.path.join(base, file)\n",
        "            zipobj.write(fn, fn[rootlen:])\n",
        "\n",
        "zipfolder(zipname, '/content/darknet/backup/')\n",
        "\n",
        "# 1. Authenticate and create the PyDrive client.\n",
        "auth.authenticate_user()\n",
        "gauth = GoogleAuth()\n",
        "gauth.credentials = GoogleCredentials.get_application_default()\n",
        "drive = GoogleDrive(gauth)\n",
        "\n",
        "# 2. Create & upload a file text file.\n",
        "file1 = drive.CreateFile()\n",
        "file1.SetContentFile(zipname+\".zip\")\n",
        "file1.Upload()"
      ],
      "execution_count": 0,
      "outputs": []
    },
    {
      "cell_type": "code",
      "metadata": {
        "id": "oeqQKXoUq5hb",
        "colab_type": "code",
        "cellView": "both",
        "colab": {}
      },
      "source": [
        "#@title\n",
        "!ls"
      ],
      "execution_count": 0,
      "outputs": []
    },
    {
      "cell_type": "code",
      "metadata": {
        "id": "tfn-jmZ3nWHG",
        "colab_type": "code",
        "colab": {}
      },
      "source": [
        "######################## ZIP AND UPLOAD FOLDER TO DRIVE ########################\n",
        "\n",
        "!pip install -U -q PyDrive\n",
        "\n",
        "from google.colab import files\n",
        "from pydrive.auth import GoogleAuth\n",
        "from pydrive.drive import GoogleDrive\n",
        "from google.colab import auth\n",
        "from oauth2client.client import GoogleCredentials\n",
        "import zipfile\n",
        "import os\n",
        "import sys\n",
        "\n",
        "zipname = 'result_v0.1'\n",
        "\n",
        "def zipfolder(foldername, target_dir):            \n",
        "    zipobj = zipfile.ZipFile(foldername + '.zip', 'w', zipfile.ZIP_DEFLATED)\n",
        "    rootlen = len(target_dir) + 1\n",
        "    for base, dirs, files in os.walk(target_dir):\n",
        "        for file in files:\n",
        "            fn = os.path.join(base, file)\n",
        "            zipobj.write(fn, fn[rootlen:])\n",
        "\n",
        "zipfolder(zipname, '/content/darknet/result.txt')\n",
        "\n",
        "# 1. Authenticate and create the PyDrive client.\n",
        "auth.authenticate_user()\n",
        "gauth = GoogleAuth()\n",
        "gauth.credentials = GoogleCredentials.get_application_default()\n",
        "drive = GoogleDrive(gauth)\n",
        "\n",
        "# 2. Create & upload a file text file.\n",
        "file1 = drive.CreateFile()\n",
        "file1.SetContentFile(zipname+\".zip\")\n",
        "file1.Upload()"
      ],
      "execution_count": 0,
      "outputs": []
    },
    {
      "cell_type": "code",
      "metadata": {
        "id": "gWkh6fWSn1Tu",
        "colab_type": "code",
        "colab": {}
      },
      "source": [
        "############################ < SHOW GPU MEMORY WHILE TRAINING > ####################################\n",
        "!ln -sf /opt/bin/nvidia-smi /usr/bin/nvidia-smi\n",
        "!pip install gputil\n",
        "!pip install psutil\n",
        "!pip install humanize\n",
        "import psutil\n",
        "import humanize\n",
        "import os, time\n",
        "import GPUtil as GPU\n",
        "\n",
        "GPUs = GPU.getGPUs()\n",
        "# XXX: only one GPU on Colab and isn’t guaranteed\n",
        "gpu = GPUs[0]\n",
        "def worker():\n",
        "  if SHOW_GPU_USAGE_TIME == 0:\n",
        "    return;\n",
        "  while True:\n",
        "    process = psutil.Process(os.getpid())\n",
        "    print(\"Gen RAM Free: \" + humanize.naturalsize( psutil.virtual_memory().available ), \" I Proc size: \" + humanize.naturalsize( process.memory_info().rss))\n",
        "    print(\"GPU RAM Free: {0:.0f}MB | Used: {1:.0f}MB | Util {2:3.0f}% | Total {3:.0f}MB\".format(gpu.memoryFree, gpu.memoryUsed, gpu.memoryUtil*100, gpu.memoryTotal))\n",
        "    time.sleep(SHOW_GPU_USAGE_TIME)\n",
        "  \n",
        "import threading\n",
        "t = threading.Thread(target=worker, name='Monitor')\n",
        "t.start()\n",
        "########################### </ SHOW GPU MEMORY WHILE TRAINING > ####################################"
      ],
      "execution_count": 0,
      "outputs": []
    },
    {
      "cell_type": "code",
      "metadata": {
        "id": "8IoF4W2zn3mD",
        "colab_type": "code",
        "colab": {}
      },
      "source": [
        "#################### SEND ALERT EMAIL AT FINISH WITH GMAIL #####################\n",
        "import smtplib\n",
        " \n",
        "server = smtplib.SMTP('smtp.gmail.com', 587)\n",
        "server.starttls()\n",
        "server.login(\"sender_gmail_here@gmail.com\", \"your_password_here\")\n",
        " \n",
        "msg = \"COLAB WORK FINISH ALERT!\"\n",
        "server.sendmail(\"sender_gmail_here@gmail.com\", \"receiver_gmail_here@gmail.com\", msg)\n",
        "server.quit()"
      ],
      "execution_count": 0,
      "outputs": []
    },
    {
      "cell_type": "code",
      "metadata": {
        "id": "L5kjCVNdWRZM",
        "colab_type": "code",
        "colab": {}
      },
      "source": [
        "# photos to output save\n",
        "./darknet detector test cfg/coco.data cfg/yolov3.cfg weights/yolov3.weights batch ./in_images/ ./out_images/ >./results.txt\n",
        "\n",
        "./darknet detector test data/obj.data  yolov2.cfg yolov2_30000.weights batch /data/obj/ /data/output/ >./results.txt"
      ],
      "execution_count": 0,
      "outputs": []
    },
    {
      "cell_type": "code",
      "metadata": {
        "id": "Wfin4vOTWH2S",
        "colab_type": "code",
        "colab": {}
      },
      "source": [
        "# Calculate MAP\n",
        "./darknet detector valid data/obj.data  yolov2.cfg yolov2_30000.weights result.txt\n"
      ],
      "execution_count": 0,
      "outputs": []
    },
    {
      "cell_type": "code",
      "metadata": {
        "id": "uTx0a6n6WKt2",
        "colab_type": "code",
        "colab": {}
      },
      "source": [
        "./darknet detector map data/obj.data  yolov2.cfg yolov2_30000.weights\n"
      ],
      "execution_count": 0,
      "outputs": []
    },
    {
      "cell_type": "code",
      "metadata": {
        "id": "5jTDPboIWYz8",
        "colab_type": "code",
        "colab": {}
      },
      "source": [
        "#Test\n",
        "./darknet detector test data/obj.data  yolov2.cfg yolov2_30000.weights -dont_show -ext_output < data/test.txt > result.txt\n"
      ],
      "execution_count": 0,
      "outputs": []
    },
    {
      "cell_type": "code",
      "metadata": {
        "id": "smpC3SVna7yq",
        "colab_type": "code",
        "colab": {}
      },
      "source": [
        "from google.colab import drive\n",
        "drive.mount('/content/drive')\n",
        "!ls \"/content/drive/My Drive/\"\n",
        "\n",
        "!cp \"/content/drive/My Drive/darknettv2.zip\" darknettv2.zip\n",
        "!unzip darknettv2.zip\n",
        "!ls\n",
        "%cd darknettv2\n",
        "!make\n",
        "\n",
        "\n",
        "\n"
      ],
      "execution_count": 0,
      "outputs": []
    },
    {
      "cell_type": "code",
      "metadata": {
        "id": "8c_OcWBwf8hj",
        "colab_type": "code",
        "colab": {}
      },
      "source": [
        "!make"
      ],
      "execution_count": 0,
      "outputs": []
    },
    {
      "cell_type": "code",
      "metadata": {
        "id": "HZVe1jGdWe4T",
        "colab_type": "code",
        "colab": {}
      },
      "source": [
        "#Yolo v2 training \n",
        "!./darknet detector train data/obj.data yolov2.cfg darknet19_448.conv.23 -ext_output -dont_show < data/train.txt > result_v2_2.txt\n"
      ],
      "execution_count": 0,
      "outputs": []
    },
    {
      "cell_type": "code",
      "metadata": {
        "id": "-kXW0I0gbP6v",
        "colab_type": "code",
        "colab": {}
      },
      "source": [
        "#backupsss part1\n",
        "!pip install -U -q PyDrive\n",
        "\n",
        "from google.colab import files\n",
        "from pydrive.auth import GoogleAuth\n",
        "from pydrive.drive import GoogleDrive\n",
        "from google.colab import auth\n",
        "from oauth2client.client import GoogleCredentials\n",
        "import zipfile\n",
        "import os\n",
        "import sys\n",
        "\n",
        "zipname = 'backupForv2_0'\n",
        "\n",
        "def zipfolder(foldername, target_dir):            \n",
        "    zipobj = zipfile.ZipFile(foldername + '.zip', 'w', zipfile.ZIP_DEFLATED)\n",
        "    rootlen = len(target_dir) + 1\n",
        "    for base, dirs, files in os.walk(target_dir):\n",
        "        for file in files:\n",
        "            fn = os.path.join(base, file)\n",
        "            zipobj.write(fn, fn[rootlen:])\n",
        "\n",
        "zipfolder(zipname, '/content/darknettv2/backup/')\n",
        "\n",
        "\n"
      ],
      "execution_count": 0,
      "outputs": []
    },
    {
      "cell_type": "code",
      "metadata": {
        "id": "bcjSOtpNbGNR",
        "colab_type": "code",
        "colab": {}
      },
      "source": [
        "#backupsss part2\n",
        "!pip install -U -q PyDrive\n",
        "\n",
        "from google.colab import files\n",
        "from pydrive.auth import GoogleAuth\n",
        "from pydrive.drive import GoogleDrive\n",
        "from google.colab import auth\n",
        "from oauth2client.client import GoogleCredentials\n",
        "import zipfile\n",
        "import os\n",
        "import sys\n",
        "\n",
        "auth.authenticate_user()\n",
        "gauth = GoogleAuth()\n",
        "gauth.credentials = GoogleCredentials.get_application_default()\n",
        "drive = GoogleDrive(gauth)\n",
        "\n",
        "file1 = drive.CreateFile()\n",
        "file1.SetContentFile('backupForv2_0.zip')\n",
        "file1.Upload()"
      ],
      "execution_count": 0,
      "outputs": []
    },
    {
      "cell_type": "code",
      "metadata": {
        "id": "-WIthhg2pidQ",
        "colab_type": "code",
        "colab": {}
      },
      "source": [
        "#backupsss part2\n",
        "!pip install -U -q PyDrive\n",
        "\n",
        "from google.colab import files\n",
        "from pydrive.auth import GoogleAuth\n",
        "from pydrive.drive import GoogleDrive\n",
        "from google.colab import auth\n",
        "from oauth2client.client import GoogleCredentials\n",
        "import zipfile\n",
        "import os\n",
        "import sys\n",
        "\n",
        "auth.authenticate_user()\n",
        "gauth = GoogleAuth()\n",
        "gauth.credentials = GoogleCredentials.get_application_default()\n",
        "drive = GoogleDrive(gauth)\n",
        "\n",
        "file1 = drive.CreateFile()\n",
        "file1.SetContentFile('result_v2_2.txt')\n",
        "file1.Upload()"
      ],
      "execution_count": 0,
      "outputs": []
    },
    {
      "cell_type": "code",
      "metadata": {
        "id": "M-YdSa7jpgfU",
        "colab_type": "code",
        "colab": {}
      },
      "source": [
        "# Download the resulting video and use VLC to run it\n",
        "from google.colab import files\n",
        "!ls -all\n",
        "files.download('backupForv2_0.zip')"
      ],
      "execution_count": 0,
      "outputs": []
    },
    {
      "cell_type": "code",
      "metadata": {
        "id": "elz92PqhhKN4",
        "colab_type": "code",
        "colab": {}
      },
      "source": [
        "!ls"
      ],
      "execution_count": 0,
      "outputs": []
    },
    {
      "cell_type": "code",
      "metadata": {
        "id": "AgcOZzO2hLOA",
        "colab_type": "code",
        "colab": {}
      },
      "source": [
        "cd backup"
      ],
      "execution_count": 0,
      "outputs": []
    },
    {
      "cell_type": "code",
      "metadata": {
        "id": "3cZSk22yLSGX",
        "colab_type": "code",
        "colab": {}
      },
      "source": [
        "from google.colab import drive\n",
        "drive.mount('/content/drive')\n",
        "!ls \"/content/drive/My Drive/\"\n",
        "\n",
        "!cp \"/content/drive/My Drive/darknettv2ForTest.zip\" darknettv2ForTest.zip\n",
        "!unzip darknettv2ForTest.zip\n",
        "!ls\n",
        "%cd darknettv2ForTest\n",
        "\n",
        "\n",
        "\n",
        "\n",
        "\n"
      ],
      "execution_count": 0,
      "outputs": []
    },
    {
      "cell_type": "code",
      "metadata": {
        "id": "cvDOJkDrN-1r",
        "colab_type": "code",
        "colab": {}
      },
      "source": [
        "!cp \"/content/drive/My Drive/backupForv2_0.zip\" backupForv2_0.zip\n",
        "!unzip backupForv2_0.zip\n",
        "!make"
      ],
      "execution_count": 0,
      "outputs": []
    },
    {
      "cell_type": "code",
      "metadata": {
        "id": "hnyOOVj1OvIP",
        "colab_type": "code",
        "colab": {}
      },
      "source": [
        "!ls"
      ],
      "execution_count": 0,
      "outputs": []
    },
    {
      "cell_type": "code",
      "metadata": {
        "id": "R3H0C9_TS-iz",
        "colab_type": "code",
        "colab": {}
      },
      "source": [
        "cd .."
      ],
      "execution_count": 0,
      "outputs": []
    },
    {
      "cell_type": "code",
      "metadata": {
        "id": "-jalXFIITAoB",
        "colab_type": "code",
        "colab": {}
      },
      "source": [
        "cd darknettv2ForTest "
      ],
      "execution_count": 0,
      "outputs": []
    },
    {
      "cell_type": "code",
      "metadata": {
        "id": "KA2DtbnKT9-p",
        "colab_type": "code",
        "colab": {}
      },
      "source": [
        "!./darknet detector valid data/obj.data yolov2.cfg olov2_6500.weights \n"
      ],
      "execution_count": 0,
      "outputs": []
    },
    {
      "cell_type": "code",
      "metadata": {
        "id": "hDnCGhNETI4B",
        "colab_type": "code",
        "colab": {}
      },
      "source": [
        "#Test\n",
        "!./darknet detector test data/obj.data yolov2.cfg olov2_7000.weights"
      ],
      "execution_count": 0,
      "outputs": []
    },
    {
      "cell_type": "code",
      "metadata": {
        "id": "qpMIULrDwR6K",
        "colab_type": "code",
        "colab": {}
      },
      "source": [
        "   \n",
        "\n",
        "!./darknet detector test data/obj.data yolov2.cfg olov2_7000.weights data/obj/crop001573.png\n",
        "\n"
      ],
      "execution_count": 0,
      "outputs": []
    },
    {
      "cell_type": "code",
      "metadata": {
        "id": "1ePNxhZ9wvaK",
        "colab_type": "code",
        "colab": {}
      },
      "source": [
        "!ls"
      ],
      "execution_count": 0,
      "outputs": []
    },
    {
      "cell_type": "code",
      "metadata": {
        "id": "HCMRXknuw_PW",
        "colab_type": "code",
        "colab": {}
      },
      "source": [
        "!rm -rf predictions.jpg"
      ],
      "execution_count": 0,
      "outputs": []
    },
    {
      "cell_type": "code",
      "metadata": {
        "id": "8VmMfij5wtpZ",
        "colab_type": "code",
        "colab": {}
      },
      "source": [
        "# Download the resulting video and use VLC to run it\n",
        "from google.colab import files\n",
        "!ls -all\n",
        "files.download('predictions.jpg')"
      ],
      "execution_count": 0,
      "outputs": []
    },
    {
      "cell_type": "code",
      "metadata": {
        "id": "u5opdUe9O2l3",
        "colab_type": "code",
        "colab": {}
      },
      "source": [
        "  #Yolo v2 _test--------------------------\n",
        "  !./darknet detector map data/obj.data  yolov2.cfg olov2_7000.weights"
      ],
      "execution_count": 0,
      "outputs": []
    },
    {
      "cell_type": "code",
      "metadata": {
        "id": "eaMxGcgPPbKN",
        "colab_type": "code",
        "colab": {}
      },
      "source": [
        "!./darknet detector map data/obj.data  yolov2.cfg olov2_5000.weights"
      ],
      "execution_count": 0,
      "outputs": []
    },
    {
      "cell_type": "code",
      "metadata": {
        "id": "prevzigvPd7F",
        "colab_type": "code",
        "colab": {}
      },
      "source": [
        "!./darknet detector map data/obj.data  yolov2.cfg olov2_6500.weights"
      ],
      "execution_count": 0,
      "outputs": []
    },
    {
      "cell_type": "code",
      "metadata": {
        "id": "gt8TdgTRPmuh",
        "colab_type": "code",
        "colab": {}
      },
      "source": [
        "!./darknet detector map data/obj.data  yolov2.cfg olov2_2000.weights"
      ],
      "execution_count": 0,
      "outputs": []
    },
    {
      "cell_type": "code",
      "metadata": {
        "id": "7tINC2xjPoHr",
        "colab_type": "code",
        "colab": {}
      },
      "source": [
        "!./darknet detector map data/obj.data  yolov2.cfg olov2_1000.weights"
      ],
      "execution_count": 0,
      "outputs": []
    },
    {
      "cell_type": "code",
      "metadata": {
        "id": "dOHnI7GHPvX4",
        "colab_type": "code",
        "colab": {}
      },
      "source": [
        "!./darknet detector map data/obj.data  yolov2.cfg olov2_500.weights"
      ],
      "execution_count": 0,
      "outputs": []
    },
    {
      "cell_type": "code",
      "metadata": {
        "id": "zx6zqQnNP4FD",
        "colab_type": "code",
        "colab": {}
      },
      "source": [
        "!ls"
      ],
      "execution_count": 0,
      "outputs": []
    },
    {
      "cell_type": "code",
      "metadata": {
        "id": "VQAdPG2ivzPf",
        "colab_type": "code",
        "colab": {}
      },
      "source": [
        "cat yolov2.cfg"
      ],
      "execution_count": 0,
      "outputs": []
    },
    {
      "cell_type": "code",
      "metadata": {
        "id": "IpmajjKuv20K",
        "colab_type": "code",
        "colab": {}
      },
      "source": [
        "%cd ..\n",
        "!ls"
      ],
      "execution_count": 0,
      "outputs": []
    },
    {
      "cell_type": "code",
      "metadata": {
        "id": "w-NXyXM_QiPX",
        "colab_type": "code",
        "colab": {}
      },
      "source": [
        "### yolo v3 _ test - - - - - - - -"
      ],
      "execution_count": 0,
      "outputs": []
    },
    {
      "cell_type": "code",
      "metadata": {
        "id": "YnMrorHvQFE_",
        "colab_type": "code",
        "colab": {}
      },
      "source": [
        "from google.colab import drive\n",
        "drive.mount('/content/drive')\n",
        "!ls \"/content/drive/My Drive/\"\n",
        "\n",
        "!cp \"/content/drive/My Drive/darknettForTest.zip\" darknettForTest.zip\n",
        "!unzip darknettForTest.zip\n",
        "!ls\n",
        "%cd darknettForTest\n",
        "\n",
        "\n",
        "\n",
        "\n",
        "\n",
        "\n"
      ],
      "execution_count": 0,
      "outputs": []
    },
    {
      "cell_type": "code",
      "metadata": {
        "id": "vO8L9ytHQNm-",
        "colab_type": "code",
        "colab": {}
      },
      "source": [
        "!cp \"/content/drive/My Drive/backupForv3_2.zip\" backupForv3_2.zip\n",
        "!cp \"/content/drive/My Drive/backupForv3_3.zip\" backupForv3_3.zip\n",
        "\n",
        "!unzip backupForv3_2.zip\n",
        "!unzip backupForv3_3.zip\n",
        "\n",
        "!make"
      ],
      "execution_count": 0,
      "outputs": []
    },
    {
      "cell_type": "code",
      "metadata": {
        "id": "HaPNLDjCQoDP",
        "colab_type": "code",
        "colab": {}
      },
      "source": [
        "!ls"
      ],
      "execution_count": 0,
      "outputs": []
    },
    {
      "cell_type": "code",
      "metadata": {
        "id": "swKIkpALVff5",
        "colab_type": "code",
        "colab": {}
      },
      "source": [
        "cat yolov3_4.cfg"
      ],
      "execution_count": 0,
      "outputs": []
    },
    {
      "cell_type": "code",
      "metadata": {
        "id": "kf9zjmRuQlqS",
        "colab_type": "code",
        "colab": {}
      },
      "source": [
        "!./darknet detector map data/obj.data  yolov3_4.cfg olov3_4_7000.weights "
      ],
      "execution_count": 0,
      "outputs": []
    },
    {
      "cell_type": "code",
      "metadata": {
        "id": "PfbRIfdsSF9p",
        "colab_type": "code",
        "colab": {}
      },
      "source": [
        "!./darknet detector map data/obj.data  yolov3_4.cfg olov3_4_1000.weights "
      ],
      "execution_count": 0,
      "outputs": []
    },
    {
      "cell_type": "code",
      "metadata": {
        "id": "EhBwAC02SIow",
        "colab_type": "code",
        "colab": {}
      },
      "source": [
        "!./darknet detector map data/obj.data  yolov3_4.cfg olov3_4_2000.weights "
      ],
      "execution_count": 0,
      "outputs": []
    },
    {
      "cell_type": "code",
      "metadata": {
        "id": "KhJsOl1USKuQ",
        "colab_type": "code",
        "colab": {}
      },
      "source": [
        "!./darknet detector map data/obj.data  yolov3_4.cfg olov3_4_3000.weights "
      ],
      "execution_count": 0,
      "outputs": []
    },
    {
      "cell_type": "code",
      "metadata": {
        "id": "U-pp30wvSL25",
        "colab_type": "code",
        "colab": {}
      },
      "source": [
        "!./darknet detector map data/obj.data  yolov3_4.cfg olov3_4_3500.weights "
      ],
      "execution_count": 0,
      "outputs": []
    },
    {
      "cell_type": "code",
      "metadata": {
        "id": "hZ2Ty_zmWrHd",
        "colab_type": "code",
        "colab": {}
      },
      "source": [
        "!ls"
      ],
      "execution_count": 0,
      "outputs": []
    },
    {
      "cell_type": "code",
      "metadata": {
        "id": "j-nY9g4hWdyM",
        "colab_type": "code",
        "colab": {}
      },
      "source": [
        "   \n",
        "\n",
        "!./darknet detector test data/obj.data yolov3_4.cfg olov3_4_3500.weights data/obj/crop001512.png\n",
        "\n",
        "\n"
      ],
      "execution_count": 0,
      "outputs": []
    },
    {
      "cell_type": "code",
      "metadata": {
        "id": "SnDTxVAnWbEO",
        "colab_type": "code",
        "colab": {}
      },
      "source": [
        "# Download the resulting video and use VLC to run it\n",
        "from google.colab import files\n",
        "!ls -all\n",
        "files.download('predictions.jpg')"
      ],
      "execution_count": 0,
      "outputs": []
    }
  ]
}